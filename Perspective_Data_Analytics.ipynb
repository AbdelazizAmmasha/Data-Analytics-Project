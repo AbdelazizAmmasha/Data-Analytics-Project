{
  "cells": [
    {
      "cell_type": "markdown",
      "metadata": {
        "id": "S0KHr8IZPIay"
      },
      "source": [
        "###**Import Libraries**"
      ]
    },
    {
      "cell_type": "code",
      "execution_count": null,
      "metadata": {
        "id": "MvLvTRyIOGu_"
      },
      "outputs": [],
      "source": [
        "import random\n",
        "import numpy as np\n",
        "import pandas as pd\n",
        "import matplotlib.pyplot as plt"
      ]
    },
    {
      "cell_type": "markdown",
      "metadata": {
        "id": "oTshDbPSPTpm"
      },
      "source": [
        "###**Fitness Function**"
      ]
    },
    {
      "cell_type": "code",
      "execution_count": null,
      "metadata": {
        "id": "Sw0R8E2bOOPc"
      },
      "outputs": [],
      "source": [
        "# Common fitness function for GA and PSO\n",
        "\n",
        "\n",
        "# Read the CSV file into a DataFrame\n",
        "df = pd.read_csv('WSNBFSFdataset V2.csv')\n",
        "\n",
        "\n",
        "# Sample data (Replace these with your actual data)\n",
        "df1 = df[['TTL', 'Hop_Count', 'rate_of_energy_consumption', 'behaviour']]\n",
        "ttl = df1['TTL']\n",
        "hop_count = df1['Hop_Count']\n",
        "roec = df1['rate_of_energy_consumption']\n",
        "\n",
        "# Fitness function\n",
        "def fitness_function(ind):\n",
        "    w1, w2, w3 = ind\n",
        "\n",
        "    if (w1 + w2 + w3) > 1.0:\n",
        "        return 9999999\n",
        "\n",
        "    df1['risk_score']= (w1 * roec) + (w2 * ttl) + (w3 * hop_count)\n",
        "\n",
        "    if any(df1['risk_score'] > 100):\n",
        "        return 999999999\n",
        "    if df1['risk_score'].sum() < 50:\n",
        "        return 999999999\n",
        "    return df1['risk_score'].min()"
      ]
    },
    {
      "cell_type": "markdown",
      "metadata": {
        "id": "nRMLdPf2OZXW"
      },
      "source": [
        "###**Genetic Algorithm**"
      ]
    },
    {
      "cell_type": "code",
      "execution_count": null,
      "metadata": {
        "id": "I7KGjp08OWP6"
      },
      "outputs": [],
      "source": [
        "#Creates a random individual\n",
        "def individual(ind_size, ind_limits):\n",
        "    ind = []\n",
        "    for i in range(ind_size):\n",
        "        ind.append(random.uniform(ind_limits[i][0], ind_limits[i][1]))\n",
        "    return ind"
      ]
    },
    {
      "cell_type": "code",
      "execution_count": null,
      "metadata": {
        "id": "phCQix4KOlPp"
      },
      "outputs": [],
      "source": [
        "#Performs crossover between two parents\n",
        "def crossover(parent1, parent2):\n",
        "    if len(parent1) == 1:\n",
        "        return parent1  # Or you could do some other type of mixing, but with 1 element it's a moot point\n",
        "    point = random.randint(1, len(parent1) - 1)\n",
        "    child = parent1[:point] + parent2[point:]\n",
        "    return child"
      ]
    },
    {
      "cell_type": "code",
      "execution_count": null,
      "metadata": {
        "id": "_a-YcGdrOnF5"
      },
      "outputs": [],
      "source": [
        "#Mutates the child\n",
        "def mutate(child, ind_limits):\n",
        "    index = random.randint(0, len(child) - 1)\n",
        "    child[index] = random.uniform(ind_limits[index][0], ind_limits[index][1])\n",
        "    return child"
      ]
    },
    {
      "cell_type": "code",
      "execution_count": null,
      "metadata": {
        "id": "Azt5YnZbOq1m"
      },
      "outputs": [],
      "source": [
        "#Select two parents based on fitness\n",
        "def select_parents(population, fit_func):\n",
        "    k = 2\n",
        "    parent1 = population[0]\n",
        "    parent2 = max(random.choices(population, k=k), key=fit_func)\n",
        "    return parent1, parent2"
      ]
    },
    {
      "cell_type": "code",
      "execution_count": null,
      "metadata": {
        "id": "zO6e5LdwOtvd"
      },
      "outputs": [],
      "source": [
        "\n",
        "\n",
        "\n",
        "def genetic_algorithm(ind_size, ind_limits, fit_func, pop_size, gen_max):\n",
        "    population = []\n",
        "    best_fitnesses = []  # This list will store the best fitness in each generation\n",
        "    for i in range(pop_size):\n",
        "        population.append(individual(ind_size, ind_limits))\n",
        "    for gen in range(gen_max):\n",
        "        population.sort(key=fit_func)\n",
        "        best_fitness = fit_func(population[0])  # Take the best individual's fitness\n",
        "        best_fitnesses.append(best_fitness)  # Add the best fitness to the list\n",
        "        parent1, parent2 = select_parents(population, fit_func)\n",
        "\n",
        "        child = crossover(parent1, parent2)\n",
        "        child = mutate(child, ind_limits)\n",
        "\n",
        "        # Replace the least fit individual\n",
        "        population[-1] = child\n",
        "\n",
        "    # Printing the best individual results for the final results\n",
        "    best_individual = population[0]\n",
        "\n",
        "\n",
        "\n",
        "    return best_individual, best_fitnesses"
      ]
    },
    {
      "cell_type": "markdown",
      "metadata": {
        "id": "7RSkj-EKOwLf"
      },
      "source": [
        "###**Particle Swarm Optimization**"
      ]
    },
    {
      "cell_type": "code",
      "execution_count": null,
      "metadata": {
        "id": "yH1cH0hLO1jy"
      },
      "outputs": [],
      "source": [
        "# Initialize a random particle\n",
        "def particle(ind_size, ind_limits):\n",
        "    ind = []\n",
        "    for i in range(ind_size):\n",
        "        ind.append(random.uniform(ind_limits[i][0], ind_limits[i][1]))\n",
        "    return ind"
      ]
    },
    {
      "cell_type": "code",
      "execution_count": null,
      "metadata": {
        "id": "wCKY3kIfO5wd"
      },
      "outputs": [],
      "source": [
        "# Update velocity\n",
        "def update_velocity(velocity, pBest_position, gBest_position, particle_position, w, c1, c2):\n",
        "    new_velocity = []\n",
        "    for i in range(len(velocity)):\n",
        "        r1, r2 = random.random(), random.random()\n",
        "        v = w * velocity[i] + c1 * r1 * (pBest_position[i] - particle_position[i]) + c2 * r2 * (gBest_position[i] - particle_position[i])\n",
        "        new_velocity.append(v)\n",
        "    return new_velocity"
      ]
    },
    {
      "cell_type": "code",
      "execution_count": null,
      "metadata": {
        "id": "PGO4VzK3O6X6"
      },
      "outputs": [],
      "source": [
        "# Update position\n",
        "def update_position(particle_position, velocity):\n",
        "    new_position = []\n",
        "    for i in range(len(particle_position)):\n",
        "        pos = particle_position[i] + velocity[i]\n",
        "        # Ensure positions are within limits\n",
        "        pos = max(0, min(1, pos))\n",
        "        new_position.append(pos)\n",
        "    return new_position"
      ]
    },
    {
      "cell_type": "code",
      "execution_count": null,
      "metadata": {
        "id": "_KyCHZyvO-DJ"
      },
      "outputs": [],
      "source": [
        "# PSO algorithm\n",
        "def particle_swarm_optimization(ind_size, ind_limits, fit_func, num_particles, num_iterations):\n",
        "    w, c1, c2 = 0.1, 0.5, 0.5\n",
        "\n",
        "    particles = [particle(ind_size, ind_limits) for _ in range(num_particles)]\n",
        "    velocities = [[random.uniform(-1, 1) for _ in range(ind_size)] for _ in range(num_particles)]\n",
        "\n",
        "    pBests = particles[:]\n",
        "    gBest = min(pBests, key=fit_func)\n",
        "    best_fitnesses = []\n",
        "\n",
        "    for _ in range(num_iterations):\n",
        "        for i in range(num_particles):\n",
        "            # Update personal best\n",
        "            if fit_func(particles[i]) < fit_func(pBests[i]):\n",
        "                pBests[i] = particles[i]\n",
        "\n",
        "            # Update global best\n",
        "            if fit_func(particles[i]) < fit_func(gBest):\n",
        "                gBest = particles[i]\n",
        "\n",
        "            velocities[i] = update_velocity(velocities[i], pBests[i], gBest, particles[i], w, c1, c2)\n",
        "            particles[i] = update_position(particles[i], velocities[i])\n",
        "\n",
        "        best_fitness = fit_func(gBest)\n",
        "        best_fitnesses.append(best_fitness)\n",
        "\n",
        "    return gBest, best_fitnesses"
      ]
    },
    {
      "cell_type": "markdown",
      "metadata": {
        "id": "ELTRi2dRQ8xX"
      },
      "source": [
        "###**Running Algorithms and Plotting**"
      ]
    },
    {
      "cell_type": "code",
      "execution_count": null,
      "metadata": {
        "id": "ZebsHBIUQ_zo"
      },
      "outputs": [],
      "source": [
        "def run_algorithms_and_plot(NUM_RUNS, IND_LIMITS, IND_SIZE, pop_size, gen_max, num_particles, num_iterations):\n",
        "    # Data collection for line chart\n",
        "    line_data_GA = []\n",
        "    line_data_PSO = []\n",
        "    best_fitnesses_all_iterations_GA = []\n",
        "    best_fitnesses_all_iterations_PSO = []\n",
        "\n",
        "    best_solution_GA = None\n",
        "    best_fitness_GA = float('inf')\n",
        "    best_run_GA = None\n",
        "    best_gen_GA = None\n",
        "\n",
        "    best_solution_PSO = None\n",
        "    best_fitness_PSO = float('inf')\n",
        "    best_run_PSO = None\n",
        "    best_iter_PSO = None\n",
        "\n",
        "    print(\"Starting GA runs...\")\n",
        "    # Run GA NUM_RUNS times\n",
        "    for i in range(NUM_RUNS):\n",
        "        print(\"\\rRunning GA iteration\", i+1,NUM_RUNS, end='')\n",
        "        best_solution, fitness_over_time = genetic_algorithm(IND_SIZE, IND_LIMITS, fitness_function, pop_size, gen_max)\n",
        "        line_data_GA.append(fitness_over_time)\n",
        "        best_fitnesses_all_iterations_GA.append(fitness_function(best_solution))\n",
        "        if fitness_function(best_solution) < best_fitness_GA:\n",
        "          best_fitness_GA = fitness_function(best_solution)\n",
        "          best_solution_GA = best_solution\n",
        "          best_run_GA = i\n",
        "          best_gen_GA = np.argmin(fitness_over_time)\n",
        "    print(\"\\nGA runs completed.\")\n",
        "    # Average the fitness over all runs for GA\n",
        "    avg_line_data_GA = np.mean(line_data_GA, axis=0)\n",
        "    print(\"\\n\\nStarting PSO runs...\")\n",
        "    # Run PSO NUM_RUNS times\n",
        "    for i in range(NUM_RUNS):\n",
        "        print(\"\\rRunning PSO iteration\", i+1,NUM_RUNS, end='')\n",
        "        best_particle, fitness_over_time = particle_swarm_optimization(IND_SIZE, IND_LIMITS, fitness_function, num_particles, num_iterations)\n",
        "        best_fitnesses_all_iterations_PSO.append(fitness_function(best_particle))\n",
        "        line_data_PSO.append(fitness_over_time)\n",
        "        if fitness_function(best_particle) < best_fitness_PSO:\n",
        "           best_fitness_PSO = fitness_function(best_particle)\n",
        "           best_solution_PSO = best_particle\n",
        "           best_run_PSO = i\n",
        "           best_iter_PSO = np.argmin(fitness_over_time)\n",
        "\n",
        "    print(\"\\nPSO runs completed.\\n\\n\")\n",
        "    # Average the fitness over all runs for PSO\n",
        "    avg_line_data_PSO = np.mean(line_data_PSO, axis=0)\n",
        "\n",
        "# Plotting\n",
        "    fig1, ax1 = plt.subplots(figsize=(15, 7))\n",
        "# Line chart for GA and PSO\n",
        "    plt.plot(avg_line_data_GA, label=\"GA\")\n",
        "    plt.plot(avg_line_data_PSO, label=\"PSO\")\n",
        "    plt.title('Generation/Iteration vs. Average Fitness')\n",
        "    plt.xlabel('Generation/Iteration')\n",
        "    plt.ylabel('Average Fitness Value')\n",
        "    plt.legend()\n",
        "    plt.show()\n",
        "\n",
        "    fig2, ax2 = plt.subplots(figsize=(15, 7)) # you can adjust this size\n",
        "    box = plt.boxplot([best_fitnesses_all_iterations_GA, best_fitnesses_all_iterations_PSO],\n",
        "                  labels=['GA', 'PSO'], patch_artist=True, widths=0.3)\n",
        "    colors = ['cyan', 'pink']\n",
        "    for patch, color in zip(box['boxes'], colors):\n",
        "      patch.set_facecolor(color)\n",
        "    #plt.xlim(0.3, 2.7)\n",
        "    plt.gca().set_position([0.1, 0.1, 0.8, 0.8])\n",
        "    plt.title('Boxplot of Best Fitnesses for Each Iteration')\n",
        "    plt.ylabel('Fitness Value')\n",
        "    plt.subplots_adjust(wspace=0.7)  # Adjust the spacing between subplots\n",
        "    plt.tight_layout()\n",
        "    plt.show()\n",
        "\n",
        "\n",
        "    print(\"GA: Best solution is\",best_solution_GA, \"with fitness \",best_fitness_GA,\"Found at run\", best_run_GA + 1, \"and generation \",best_gen_GA + 1)\n",
        "    print(\"PSO: Best solution is\", best_solution_PSO, \"with fitness\", best_fitness_PSO, \"Found at run\",best_run_PSO + 1, \"and iteration\",best_iter_PSO + 1)\n"
      ]
    },
    {
      "cell_type": "markdown",
      "metadata": {
        "id": "YqoA3x0KPd2n"
      },
      "source": [
        "###**Setting the algorithm parameters**"
      ]
    },
    {
      "cell_type": "code",
      "execution_count": null,
      "metadata": {
        "colab": {
          "base_uri": "https://localhost:8080/",
          "height": 1000
        },
        "id": "-ieXVucTPtUg",
        "outputId": "806e17c8-2d6d-4905-bd08-7086cbab78ce"
      },
      "outputs": [
        {
          "name": "stdout",
          "output_type": "stream",
          "text": [
            "Starting GA runs...\n",
            "\rRunning GA iteration 1 10"
          ]
        },
        {
          "name": "stderr",
          "output_type": "stream",
          "text": [
            "<ipython-input-31-e326d55a73ac>:21: SettingWithCopyWarning: \n",
            "A value is trying to be set on a copy of a slice from a DataFrame.\n",
            "Try using .loc[row_indexer,col_indexer] = value instead\n",
            "\n",
            "See the caveats in the documentation: https://pandas.pydata.org/pandas-docs/stable/user_guide/indexing.html#returning-a-view-versus-a-copy\n",
            "  df1['risk_score']= (w1 * roec) + (w2 * ttl) + (w3 * hop_count)\n"
          ]
        },
        {
          "name": "stdout",
          "output_type": "stream",
          "text": [
            "Running GA iteration 10 10\n",
            "GA runs completed.\n",
            "\n",
            "\n",
            "Starting PSO runs...\n",
            "Running PSO iteration 10 10\n",
            "PSO runs completed.\n",
            "\n",
            "\n"
          ]
        },
        {
          "data": {
            "image/png": "[encoded data removed]",
            "text/plain": [
              "<Figure size 1500x700 with 1 Axes>"
            ]
          },
          "metadata": {},
          "output_type": "display_data"
        },
        {
          "data": {
            "image/png": "[encoded data removed]",
            "text/plain": [
              "<Figure size 1500x700 with 1 Axes>"
            ]
          },
          "metadata": {},
          "output_type": "display_data"
        },
        {
          "name": "stdout",
          "output_type": "stream",
          "text": [
            "GA: Best solution is [0.18679924552281324, 0.1819307070970657, 0.0012329502953914995] with fitness  0.006164751476957497 Found at run 7 and generation  51\n",
            "PSO: Best solution is [0.3010783079853564, 0.4309939873994035, 0] with fitness 0.0 Found at run 1 and iteration 2\n"
          ]
        }
      ],
      "source": [
        "# Setting the algorithm parameters\n",
        "NUM_RUNS = 10\n",
        "\n",
        "IND_LIMITS = [(0, 1), (0, 1), (0, 1)]\n",
        "IND_SIZE = 3\n",
        "\n",
        "pop_size = 100\n",
        "num_particles = 100\n",
        "\n",
        "gen_max = 200\n",
        "num_iterations = 200\n",
        "\n",
        "\n",
        "# Running the algorithms and plotting\n",
        "run_algorithms_and_plot(NUM_RUNS, IND_LIMITS, IND_SIZE, pop_size, gen_max, num_particles, num_iterations)"
      ]
    },
    {
      "cell_type": "code",
      "execution_count": null,
      "metadata": {
        "colab": {
          "base_uri": "https://localhost:8080/",
          "height": 423
        },
        "id": "Wo6FkonKsSE2",
        "outputId": "d5aa18ab-cab2-4447-9054-653f5c24ce09"
      },
      "outputs": [
        {
          "data": {
            "text/html": [
              "\n",
              "  <div id=\"df-e4adfd3e-74de-4aea-bb04-5fdac9e94834\" class=\"colab-df-container\">\n",
              "    <div>\n",
              "<style scoped>\n",
              "    .dataframe tbody tr th:only-of-type {\n",
              "        vertical-align: middle;\n",
              "    }\n",
              "\n",
              "    .dataframe tbody tr th {\n",
              "        vertical-align: top;\n",
              "    }\n",
              "\n",
              "    .dataframe thead th {\n",
              "        text-align: right;\n",
              "    }\n",
              "</style>\n",
              "<table border=\"1\" class=\"dataframe\">\n",
              "  <thead>\n",
              "    <tr style=\"text-align: right;\">\n",
              "      <th></th>\n",
              "      <th>TTL</th>\n",
              "      <th>Hop_Count</th>\n",
              "      <th>rate_of_energy_consumption</th>\n",
              "      <th>behaviour</th>\n",
              "      <th>risk_score</th>\n",
              "    </tr>\n",
              "  </thead>\n",
              "  <tbody>\n",
              "    <tr>\n",
              "      <th>0</th>\n",
              "      <td>30</td>\n",
              "      <td>1</td>\n",
              "      <td>0.000000</td>\n",
              "      <td>No attack</td>\n",
              "      <td>20.379731</td>\n",
              "    </tr>\n",
              "    <tr>\n",
              "      <th>1</th>\n",
              "      <td>30</td>\n",
              "      <td>1</td>\n",
              "      <td>0.000000</td>\n",
              "      <td>No attack</td>\n",
              "      <td>20.379731</td>\n",
              "    </tr>\n",
              "    <tr>\n",
              "      <th>2</th>\n",
              "      <td>30</td>\n",
              "      <td>1</td>\n",
              "      <td>0.000000</td>\n",
              "      <td>No attack</td>\n",
              "      <td>20.379731</td>\n",
              "    </tr>\n",
              "    <tr>\n",
              "      <th>3</th>\n",
              "      <td>30</td>\n",
              "      <td>1</td>\n",
              "      <td>0.000000</td>\n",
              "      <td>No attack</td>\n",
              "      <td>20.379731</td>\n",
              "    </tr>\n",
              "    <tr>\n",
              "      <th>4</th>\n",
              "      <td>30</td>\n",
              "      <td>1</td>\n",
              "      <td>0.000000</td>\n",
              "      <td>No attack</td>\n",
              "      <td>20.379731</td>\n",
              "    </tr>\n",
              "    <tr>\n",
              "      <th>...</th>\n",
              "      <td>...</td>\n",
              "      <td>...</td>\n",
              "      <td>...</td>\n",
              "      <td>...</td>\n",
              "      <td>...</td>\n",
              "    </tr>\n",
              "    <tr>\n",
              "      <th>312101</th>\n",
              "      <td>30</td>\n",
              "      <td>1</td>\n",
              "      <td>0.205346</td>\n",
              "      <td>Under attack</td>\n",
              "      <td>20.421558</td>\n",
              "    </tr>\n",
              "    <tr>\n",
              "      <th>312102</th>\n",
              "      <td>30</td>\n",
              "      <td>1</td>\n",
              "      <td>0.205344</td>\n",
              "      <td>Under attack</td>\n",
              "      <td>20.421557</td>\n",
              "    </tr>\n",
              "    <tr>\n",
              "      <th>312103</th>\n",
              "      <td>30</td>\n",
              "      <td>1</td>\n",
              "      <td>0.205354</td>\n",
              "      <td>Under attack</td>\n",
              "      <td>20.421559</td>\n",
              "    </tr>\n",
              "    <tr>\n",
              "      <th>312104</th>\n",
              "      <td>30</td>\n",
              "      <td>1</td>\n",
              "      <td>0.205346</td>\n",
              "      <td>Under attack</td>\n",
              "      <td>20.421558</td>\n",
              "    </tr>\n",
              "    <tr>\n",
              "      <th>312105</th>\n",
              "      <td>30</td>\n",
              "      <td>1</td>\n",
              "      <td>0.205348</td>\n",
              "      <td>Under attack</td>\n",
              "      <td>20.421558</td>\n",
              "    </tr>\n",
              "  </tbody>\n",
              "</table>\n",
              "<p>312106 rows × 5 columns</p>\n",
              "</div>\n",
              "    <div class=\"colab-df-buttons\">\n",
              "\n",
              "  <div class=\"colab-df-container\">\n",
              "    <button class=\"colab-df-convert\" onclick=\"convertToInteractive('df-e4adfd3e-74de-4aea-bb04-5fdac9e94834')\"\n",
              "            title=\"Convert this dataframe to an interactive table.\"\n",
              "            style=\"display:none;\">\n",
              "\n",
              "  <svg xmlns=\"http://www.w3.org/2000/svg\" height=\"24px\" viewBox=\"0 -960 960 960\">\n",
              "    <path d=\"M120-120v-720h720v720H120Zm60-500h600v-160H180v160Zm220 220h160v-160H400v160Zm0 220h160v-160H400v160ZM180-400h160v-160H180v160Zm440 0h160v-160H620v160ZM180-180h160v-160H180v160Zm440 0h160v-160H620v160Z\"/>\n",
              "  </svg>\n",
              "    </button>\n",
              "\n",
              "  <style>\n",
              "    .colab-df-container {\n",
              "      display:flex;\n",
              "      gap: 12px;\n",
              "    }\n",
              "\n",
              "    .colab-df-convert {\n",
              "      background-color: #E8F0FE;\n",
              "      border: none;\n",
              "      border-radius: 50%;\n",
              "      cursor: pointer;\n",
              "      display: none;\n",
              "      fill: #1967D2;\n",
              "      height: 32px;\n",
              "      padding: 0 0 0 0;\n",
              "      width: 32px;\n",
              "    }\n",
              "\n",
              "    .colab-df-convert:hover {\n",
              "      background-color: #E2EBFA;\n",
              "      box-shadow: 0px 1px 2px rgba(60, 64, 67, 0.3), 0px 1px 3px 1px rgba(60, 64, 67, 0.15);\n",
              "      fill: #174EA6;\n",
              "    }\n",
              "\n",
              "    .colab-df-buttons div {\n",
              "      margin-bottom: 4px;\n",
              "    }\n",
              "\n",
              "    [theme=dark] .colab-df-convert {\n",
              "      background-color: #3B4455;\n",
              "      fill: #D2E3FC;\n",
              "    }\n",
              "\n",
              "    [theme=dark] .colab-df-convert:hover {\n",
              "      background-color: #434B5C;\n",
              "      box-shadow: 0px 1px 3px 1px rgba(0, 0, 0, 0.15);\n",
              "      filter: drop-shadow(0px 1px 2px rgba(0, 0, 0, 0.3));\n",
              "      fill: #FFFFFF;\n",
              "    }\n",
              "  </style>\n",
              "\n",
              "    <script>\n",
              "      const buttonEl =\n",
              "        document.querySelector('#df-e4adfd3e-74de-4aea-bb04-5fdac9e94834 button.colab-df-convert');\n",
              "      buttonEl.style.display =\n",
              "        google.colab.kernel.accessAllowed ? 'block' : 'none';\n",
              "\n",
              "      async function convertToInteractive(key) {\n",
              "        const element = document.querySelector('#df-e4adfd3e-74de-4aea-bb04-5fdac9e94834');\n",
              "        const dataTable =\n",
              "          await google.colab.kernel.invokeFunction('convertToInteractive',\n",
              "                                                    [key], {});\n",
              "        if (!dataTable) return;\n",
              "\n",
              "        const docLinkHtml = 'Like what you see? Visit the ' +\n",
              "          '<a target=\"_blank\" href=https://colab.research.google.com/notebooks/data_table.ipynb>data table notebook</a>'\n",
              "          + ' to learn more about interactive tables.';\n",
              "        element.innerHTML = '';\n",
              "        dataTable['output_type'] = 'display_data';\n",
              "        await google.colab.output.renderOutput(dataTable, element);\n",
              "        const docLink = document.createElement('div');\n",
              "        docLink.innerHTML = docLinkHtml;\n",
              "        element.appendChild(docLink);\n",
              "      }\n",
              "    </script>\n",
              "  </div>\n",
              "\n",
              "\n",
              "<div id=\"df-29080908-af29-43af-a3cc-f38c2df0d790\">\n",
              "  <button class=\"colab-df-quickchart\" onclick=\"quickchart('df-29080908-af29-43af-a3cc-f38c2df0d790')\"\n",
              "            title=\"Suggest charts.\"\n",
              "            style=\"display:none;\">\n",
              "\n",
              "<svg xmlns=\"http://www.w3.org/2000/svg\" height=\"24px\"viewBox=\"0 0 24 24\"\n",
              "     width=\"24px\">\n",
              "    <g>\n",
              "        <path d=\"M19 3H5c-1.1 0-2 .9-2 2v14c0 1.1.9 2 2 2h14c1.1 0 2-.9 2-2V5c0-1.1-.9-2-2-2zM9 17H7v-7h2v7zm4 0h-2V7h2v10zm4 0h-2v-4h2v4z\"/>\n",
              "    </g>\n",
              "</svg>\n",
              "  </button>\n",
              "\n",
              "<style>\n",
              "  .colab-df-quickchart {\n",
              "      --bg-color: #E8F0FE;\n",
              "      --fill-color: #1967D2;\n",
              "      --hover-bg-color: #E2EBFA;\n",
              "      --hover-fill-color: #174EA6;\n",
              "      --disabled-fill-color: #AAA;\n",
              "      --disabled-bg-color: #DDD;\n",
              "  }\n",
              "\n",
              "  [theme=dark] .colab-df-quickchart {\n",
              "      --bg-color: #3B4455;\n",
              "      --fill-color: #D2E3FC;\n",
              "      --hover-bg-color: #434B5C;\n",
              "      --hover-fill-color: #FFFFFF;\n",
              "      --disabled-bg-color: #3B4455;\n",
              "      --disabled-fill-color: #666;\n",
              "  }\n",
              "\n",
              "  .colab-df-quickchart {\n",
              "    background-color: var(--bg-color);\n",
              "    border: none;\n",
              "    border-radius: 50%;\n",
              "    cursor: pointer;\n",
              "    display: none;\n",
              "    fill: var(--fill-color);\n",
              "    height: 32px;\n",
              "    padding: 0;\n",
              "    width: 32px;\n",
              "  }\n",
              "\n",
              "  .colab-df-quickchart:hover {\n",
              "    background-color: var(--hover-bg-color);\n",
              "    box-shadow: 0 1px 2px rgba(60, 64, 67, 0.3), 0 1px 3px 1px rgba(60, 64, 67, 0.15);\n",
              "    fill: var(--button-hover-fill-color);\n",
              "  }\n",
              "\n",
              "  .colab-df-quickchart-complete:disabled,\n",
              "  .colab-df-quickchart-complete:disabled:hover {\n",
              "    background-color: var(--disabled-bg-color);\n",
              "    fill: var(--disabled-fill-color);\n",
              "    box-shadow: none;\n",
              "  }\n",
              "\n",
              "  .colab-df-spinner {\n",
              "    border: 2px solid var(--fill-color);\n",
              "    border-color: transparent;\n",
              "    border-bottom-color: var(--fill-color);\n",
              "    animation:\n",
              "      spin 1s steps(1) infinite;\n",
              "  }\n",
              "\n",
              "  @keyframes spin {\n",
              "    0% {\n",
              "      border-color: transparent;\n",
              "      border-bottom-color: var(--fill-color);\n",
              "      border-left-color: var(--fill-color);\n",
              "    }\n",
              "    20% {\n",
              "      border-color: transparent;\n",
              "      border-left-color: var(--fill-color);\n",
              "      border-top-color: var(--fill-color);\n",
              "    }\n",
              "    30% {\n",
              "      border-color: transparent;\n",
              "      border-left-color: var(--fill-color);\n",
              "      border-top-color: var(--fill-color);\n",
              "      border-right-color: var(--fill-color);\n",
              "    }\n",
              "    40% {\n",
              "      border-color: transparent;\n",
              "      border-right-color: var(--fill-color);\n",
              "      border-top-color: var(--fill-color);\n",
              "    }\n",
              "    60% {\n",
              "      border-color: transparent;\n",
              "      border-right-color: var(--fill-color);\n",
              "    }\n",
              "    80% {\n",
              "      border-color: transparent;\n",
              "      border-right-color: var(--fill-color);\n",
              "      border-bottom-color: var(--fill-color);\n",
              "    }\n",
              "    90% {\n",
              "      border-color: transparent;\n",
              "      border-bottom-color: var(--fill-color);\n",
              "    }\n",
              "  }\n",
              "</style>\n",
              "\n",
              "  <script>\n",
              "    async function quickchart(key) {\n",
              "      const quickchartButtonEl =\n",
              "        document.querySelector('#' + key + ' button');\n",
              "      quickchartButtonEl.disabled = true;  // To prevent multiple clicks.\n",
              "      quickchartButtonEl.classList.add('colab-df-spinner');\n",
              "      try {\n",
              "        const charts = await google.colab.kernel.invokeFunction(\n",
              "            'suggestCharts', [key], {});\n",
              "      } catch (error) {\n",
              "        console.error('Error during call to suggestCharts:', error);\n",
              "      }\n",
              "      quickchartButtonEl.classList.remove('colab-df-spinner');\n",
              "      quickchartButtonEl.classList.add('colab-df-quickchart-complete');\n",
              "    }\n",
              "    (() => {\n",
              "      let quickchartButtonEl =\n",
              "        document.querySelector('#df-29080908-af29-43af-a3cc-f38c2df0d790 button');\n",
              "      quickchartButtonEl.style.display =\n",
              "        google.colab.kernel.accessAllowed ? 'block' : 'none';\n",
              "    })();\n",
              "  </script>\n",
              "</div>\n",
              "    </div>\n",
              "  </div>\n"
            ],
            "text/plain": [
              "        TTL  Hop_Count  rate_of_energy_consumption     behaviour  risk_score\n",
              "0        30          1                    0.000000     No attack   20.379731\n",
              "1        30          1                    0.000000     No attack   20.379731\n",
              "2        30          1                    0.000000     No attack   20.379731\n",
              "3        30          1                    0.000000     No attack   20.379731\n",
              "4        30          1                    0.000000     No attack   20.379731\n",
              "...     ...        ...                         ...           ...         ...\n",
              "312101   30          1                    0.205346  Under attack   20.421558\n",
              "312102   30          1                    0.205344  Under attack   20.421557\n",
              "312103   30          1                    0.205354  Under attack   20.421559\n",
              "312104   30          1                    0.205346  Under attack   20.421558\n",
              "312105   30          1                    0.205348  Under attack   20.421558\n",
              "\n",
              "[312106 rows x 5 columns]"
            ]
          },
          "execution_count": 43,
          "metadata": {},
          "output_type": "execute_result"
        }
      ],
      "source": [
        "df1"
      ]
    },
    {
      "cell_type": "code",
      "execution_count": null,
      "metadata": {
        "colab": {
          "base_uri": "https://localhost:8080/"
        },
        "id": "VJTctKhOLAry",
        "outputId": "6ec2bffc-4a0d-4dbd-90a8-de895f77c286"
      },
      "outputs": [
        {
          "data": {
            "text/plain": [
              "47.76664576672965"
            ]
          },
          "execution_count": 51,
          "metadata": {},
          "output_type": "execute_result"
        }
      ],
      "source": [
        "df1['risk_score'].max()"
      ]
    },
    {
      "cell_type": "code",
      "execution_count": null,
      "metadata": {
        "id": "xYna6T_mLEsZ"
      },
      "outputs": [],
      "source": [
        "df2 = df1[df1['behaviour'] == 'Under attack']"
      ]
    },
    {
      "cell_type": "code",
      "execution_count": null,
      "metadata": {
        "colab": {
          "base_uri": "https://localhost:8080/"
        },
        "id": "ynHrqK1VoMhE",
        "outputId": "91151a5c-f1c3-4476-9f47-cd19ed9ceb88"
      },
      "outputs": [
        {
          "data": {
            "text/plain": [
              "0.0"
            ]
          },
          "execution_count": 46,
          "metadata": {},
          "output_type": "execute_result"
        }
      ],
      "source": [
        "df2['risk_score'].min()"
      ]
    },
    {
      "cell_type": "code",
      "execution_count": null,
      "metadata": {
        "colab": {
          "base_uri": "https://localhost:8080/"
        },
        "id": "R7r-ZB6mMrN2",
        "outputId": "33abd312-ba19-43f3-c172-aa97f67532fe"
      },
      "outputs": [
        {
          "data": {
            "text/plain": [
              "24.60972264211119"
            ]
          },
          "execution_count": 47,
          "metadata": {},
          "output_type": "execute_result"
        }
      ],
      "source": [
        "df2['risk_score'].max()"
      ]
    },
    {
      "cell_type": "code",
      "execution_count": null,
      "metadata": {
        "id": "ZLQM7U--Mr61"
      },
      "outputs": [],
      "source": [
        "df3 = df1[df1['behaviour'] == 'No attack']"
      ]
    },
    {
      "cell_type": "code",
      "execution_count": null,
      "metadata": {
        "colab": {
          "base_uri": "https://localhost:8080/"
        },
        "id": "4s4ovl1ioP7z",
        "outputId": "4c39e011-13e6-44de-9828-299daab208b0"
      },
      "outputs": [
        {
          "data": {
            "text/plain": [
              "0.0"
            ]
          },
          "execution_count": 49,
          "metadata": {},
          "output_type": "execute_result"
        }
      ],
      "source": [
        "df3['risk_score'].min()"
      ]
    },
    {
      "cell_type": "code",
      "execution_count": null,
      "metadata": {
        "colab": {
          "base_uri": "https://localhost:8080/"
        },
        "id": "ZUk1u1feM3Tq",
        "outputId": "1af13188-a961-430f-ea9b-c59d30026998"
      },
      "outputs": [
        {
          "data": {
            "text/plain": [
              "47.76664576672965"
            ]
          },
          "execution_count": 50,
          "metadata": {},
          "output_type": "execute_result"
        }
      ],
      "source": [
        "df3['risk_score'].max()"
      ]
    },
    {
      "cell_type": "code",
      "execution_count": null,
      "metadata": {
        "id": "Wg2MvSftM5Pj"
      },
      "outputs": [],
      "source": []
    }
  ],
  "metadata": {
    "colab": {
      "collapsed_sections": [
        "nRMLdPf2OZXW",
        "7RSkj-EKOwLf",
        "ELTRi2dRQ8xX"
      ],
      "provenance": []
    },
    "kernelspec": {
      "display_name": "Python 3 (ipykernel)",
      "language": "python",
      "name": "python3"
    },
    "language_info": {
      "codemirror_mode": {
        "name": "ipython",
        "version": 3
      },
      "file_extension": ".py",
      "mimetype": "text/x-python",
      "name": "python",
      "nbconvert_exporter": "python",
      "pygments_lexer": "ipython3",
      "version": "3.9.12"
    }
  },
  "nbformat": 4,
  "nbformat_minor": 0
}